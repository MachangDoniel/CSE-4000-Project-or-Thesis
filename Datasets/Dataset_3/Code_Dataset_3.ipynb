{
  "cells": [
    {
      "cell_type": "markdown",
      "metadata": {
        "id": "SHsKTlHEymSo"
      },
      "source": [
        "# 1. Pre-requisite\n",
        "---\n",
        "\n"
      ]
    },
    {
      "cell_type": "markdown",
      "metadata": {
        "id": "3RqgF3r6ymSr"
      },
      "source": [
        "## Importing the Dependencies\n",
        "\n",
        "---\n",
        "\n"
      ]
    },
    {
      "cell_type": "code",
      "execution_count": 9,
      "metadata": {
        "colab": {
          "base_uri": "https://localhost:8080/"
        },
        "id": "VhZiBjNJl4go",
        "outputId": "ea2f81b2-e103-4c43-f685-f1f5b19c9c6c"
      },
      "outputs": [
        {
          "name": "stdout",
          "output_type": "stream",
          "text": [
            "Requirement already satisfied: seaborn in c:\\users\\asus\\anaconda3\\lib\\site-packages (0.12.2)\n",
            "Requirement already satisfied: numpy!=1.24.0,>=1.17 in c:\\users\\asus\\anaconda3\\lib\\site-packages (from seaborn) (1.24.3)\n",
            "Requirement already satisfied: pandas>=0.25 in c:\\users\\asus\\anaconda3\\lib\\site-packages (from seaborn) (2.0.3)\n",
            "Requirement already satisfied: matplotlib!=3.6.1,>=3.1 in c:\\users\\asus\\anaconda3\\lib\\site-packages (from seaborn) (3.7.2)\n",
            "Requirement already satisfied: contourpy>=1.0.1 in c:\\users\\asus\\anaconda3\\lib\\site-packages (from matplotlib!=3.6.1,>=3.1->seaborn) (1.0.5)\n",
            "Requirement already satisfied: cycler>=0.10 in c:\\users\\asus\\anaconda3\\lib\\site-packages (from matplotlib!=3.6.1,>=3.1->seaborn) (0.11.0)\n",
            "Requirement already satisfied: fonttools>=4.22.0 in c:\\users\\asus\\anaconda3\\lib\\site-packages (from matplotlib!=3.6.1,>=3.1->seaborn) (4.25.0)\n",
            "Requirement already satisfied: kiwisolver>=1.0.1 in c:\\users\\asus\\anaconda3\\lib\\site-packages (from matplotlib!=3.6.1,>=3.1->seaborn) (1.4.4)\n",
            "Requirement already satisfied: packaging>=20.0 in c:\\users\\asus\\anaconda3\\lib\\site-packages (from matplotlib!=3.6.1,>=3.1->seaborn) (23.1)\n",
            "Requirement already satisfied: pillow>=6.2.0 in c:\\users\\asus\\anaconda3\\lib\\site-packages (from matplotlib!=3.6.1,>=3.1->seaborn) (9.4.0)\n",
            "Requirement already satisfied: pyparsing<3.1,>=2.3.1 in c:\\users\\asus\\anaconda3\\lib\\site-packages (from matplotlib!=3.6.1,>=3.1->seaborn) (3.0.9)\n",
            "Requirement already satisfied: python-dateutil>=2.7 in c:\\users\\asus\\anaconda3\\lib\\site-packages (from matplotlib!=3.6.1,>=3.1->seaborn) (2.8.2)\n",
            "Requirement already satisfied: pytz>=2020.1 in c:\\users\\asus\\anaconda3\\lib\\site-packages (from pandas>=0.25->seaborn) (2023.3.post1)\n",
            "Requirement already satisfied: tzdata>=2022.1 in c:\\users\\asus\\anaconda3\\lib\\site-packages (from pandas>=0.25->seaborn) (2023.3)\n",
            "Requirement already satisfied: six>=1.5 in c:\\users\\asus\\anaconda3\\lib\\site-packages (from python-dateutil>=2.7->matplotlib!=3.6.1,>=3.1->seaborn) (1.16.0)\n"
          ]
        }
      ],
      "source": [
        "!pip install seaborn\n"
      ]
    },
    {
      "cell_type": "code",
      "execution_count": 10,
      "metadata": {
        "id": "CKUyCObjl7tV"
      },
      "outputs": [],
      "source": [
        "import warnings\n",
        "warnings.simplefilter(action='ignore', category=FutureWarning)"
      ]
    },
    {
      "cell_type": "code",
      "execution_count": 11,
      "metadata": {
        "execution": {
          "iopub.execute_input": "2023-12-03T03:02:35.855284Z",
          "iopub.status.busy": "2023-12-03T03:02:35.854968Z",
          "iopub.status.idle": "2023-12-03T03:02:38.482147Z",
          "shell.execute_reply": "2023-12-03T03:02:38.481414Z",
          "shell.execute_reply.started": "2023-12-03T03:02:35.855253Z"
        },
        "id": "O2XP6ZLaymSt",
        "trusted": true
      },
      "outputs": [],
      "source": [
        "import numpy as np\n",
        "import pandas as pd\n",
        "from sklearn.preprocessing import StandardScaler\n",
        "from sklearn.model_selection import train_test_split\n",
        "from sklearn import svm\n",
        "from sklearn.metrics import accuracy_score\n",
        "import seaborn as sns\n",
        "from sklearn.dummy import DummyClassifier\n",
        "from sklearn.linear_model import LogisticRegression\n",
        "from sklearn.tree import DecisionTreeClassifier\n",
        "from sklearn.neighbors import KNeighborsClassifier\n",
        "from sklearn.naive_bayes import GaussianNB\n",
        "from sklearn.svm import SVC\n",
        "from sklearn.ensemble import RandomForestClassifier\n",
        "from sklearn.metrics import classification_report,confusion_matrix\n",
        "from sklearn.metrics import f1_score, precision_score, recall_score,accuracy_score\n",
        "import matplotlib.pyplot as plt\n",
        "import seaborn as sns\n",
        "import copy\n",
        "from sklearn.neural_network import MLPClassifier\n",
        "from sklearn.ensemble import RandomForestClassifier, AdaBoostClassifier\n",
        "from sklearn.model_selection import KFold, cross_val_score\n",
        "from sklearn.metrics import confusion_matrix, ConfusionMatrixDisplay, f1_score\n",
        "from sklearn.model_selection import StratifiedKFold"
      ]
    },
    {
      "cell_type": "code",
      "execution_count": 12,
      "metadata": {},
      "outputs": [],
      "source": [
        "from keras.models import Sequential\n",
        "from keras.layers import Dense\n",
        "from sklearn.model_selection import StratifiedKFold\n",
        "from sklearn.metrics import accuracy_score, f1_score\n",
        "from sklearn.preprocessing import StandardScaler\n",
        "import numpy as np\n",
        "np.random.seed(7)"
      ]
    },
    {
      "cell_type": "code",
      "execution_count": 13,
      "metadata": {},
      "outputs": [],
      "source": [
        "# Deprecated\n",
        "# tf.logging.set_verbosity(tf.logging.INFO)\n",
        "\n",
        "# Use the compatible version\n",
        "import tensorflow as tf\n",
        "tf.compat.v1.logging.set_verbosity(tf.compat.v1.logging.INFO)"
      ]
    },
    {
      "cell_type": "markdown",
      "metadata": {
        "id": "V6UJDYY2ymSu"
      },
      "source": [
        "## Data Collection and Analysis"
      ]
    },
    {
      "cell_type": "code",
      "execution_count": 14,
      "metadata": {
        "id": "A-294DgEy9wi"
      },
      "outputs": [],
      "source": [
        "# from google.colab import drive\n",
        "# drive.mount('/content/drive')"
      ]
    },
    {
      "cell_type": "code",
      "execution_count": 15,
      "metadata": {
        "execution": {
          "iopub.execute_input": "2023-12-03T03:02:59.612397Z",
          "iopub.status.busy": "2023-12-03T03:02:59.611708Z",
          "iopub.status.idle": "2023-12-03T03:02:59.629185Z",
          "shell.execute_reply": "2023-12-03T03:02:59.628360Z",
          "shell.execute_reply.started": "2023-12-03T03:02:59.612357Z"
        },
        "id": "b0BWtfbdymSu",
        "trusted": true
      },
      "outputs": [],
      "source": [
        "# Using diabetes.csv\n",
        "raw_df = pd.read_csv('diabetes-dataset.csv')"
      ]
    },
    {
      "cell_type": "code",
      "execution_count": 16,
      "metadata": {
        "execution": {
          "iopub.execute_input": "2023-12-03T03:03:10.803018Z",
          "iopub.status.busy": "2023-12-03T03:03:10.802099Z",
          "iopub.status.idle": "2023-12-03T03:03:10.806054Z",
          "shell.execute_reply": "2023-12-03T03:03:10.805274Z",
          "shell.execute_reply.started": "2023-12-03T03:03:10.802981Z"
        },
        "id": "4KVzZwjDymSw",
        "trusted": true
      },
      "outputs": [],
      "source": [
        "# pd.read_csv?"
      ]
    },
    {
      "cell_type": "code",
      "execution_count": 17,
      "metadata": {
        "colab": {
          "base_uri": "https://localhost:8080/",
          "height": 206
        },
        "execution": {
          "iopub.execute_input": "2023-12-03T03:03:12.868803Z",
          "iopub.status.busy": "2023-12-03T03:03:12.868442Z",
          "iopub.status.idle": "2023-12-03T03:03:12.885542Z",
          "shell.execute_reply": "2023-12-03T03:03:12.884895Z",
          "shell.execute_reply.started": "2023-12-03T03:03:12.868772Z"
        },
        "id": "b-xeSpBYymSw",
        "outputId": "00d9f54b-8d87-4e72-f05e-26930ff8c278",
        "trusted": true
      },
      "outputs": [
        {
          "data": {
            "text/html": [
              "<div>\n",
              "<style scoped>\n",
              "    .dataframe tbody tr th:only-of-type {\n",
              "        vertical-align: middle;\n",
              "    }\n",
              "\n",
              "    .dataframe tbody tr th {\n",
              "        vertical-align: top;\n",
              "    }\n",
              "\n",
              "    .dataframe thead th {\n",
              "        text-align: right;\n",
              "    }\n",
              "</style>\n",
              "<table border=\"1\" class=\"dataframe\">\n",
              "  <thead>\n",
              "    <tr style=\"text-align: right;\">\n",
              "      <th></th>\n",
              "      <th>Pregnancies</th>\n",
              "      <th>Glucose</th>\n",
              "      <th>BloodPressure</th>\n",
              "      <th>SkinThickness</th>\n",
              "      <th>Insulin</th>\n",
              "      <th>BMI</th>\n",
              "      <th>DiabetesPedigreeFunction</th>\n",
              "      <th>Age</th>\n",
              "      <th>Outcome</th>\n",
              "    </tr>\n",
              "  </thead>\n",
              "  <tbody>\n",
              "    <tr>\n",
              "      <th>0</th>\n",
              "      <td>2</td>\n",
              "      <td>138</td>\n",
              "      <td>62</td>\n",
              "      <td>35</td>\n",
              "      <td>0</td>\n",
              "      <td>33.6</td>\n",
              "      <td>0.127</td>\n",
              "      <td>47</td>\n",
              "      <td>1</td>\n",
              "    </tr>\n",
              "    <tr>\n",
              "      <th>1</th>\n",
              "      <td>0</td>\n",
              "      <td>84</td>\n",
              "      <td>82</td>\n",
              "      <td>31</td>\n",
              "      <td>125</td>\n",
              "      <td>38.2</td>\n",
              "      <td>0.233</td>\n",
              "      <td>23</td>\n",
              "      <td>0</td>\n",
              "    </tr>\n",
              "    <tr>\n",
              "      <th>2</th>\n",
              "      <td>0</td>\n",
              "      <td>145</td>\n",
              "      <td>0</td>\n",
              "      <td>0</td>\n",
              "      <td>0</td>\n",
              "      <td>44.2</td>\n",
              "      <td>0.630</td>\n",
              "      <td>31</td>\n",
              "      <td>1</td>\n",
              "    </tr>\n",
              "    <tr>\n",
              "      <th>3</th>\n",
              "      <td>0</td>\n",
              "      <td>135</td>\n",
              "      <td>68</td>\n",
              "      <td>42</td>\n",
              "      <td>250</td>\n",
              "      <td>42.3</td>\n",
              "      <td>0.365</td>\n",
              "      <td>24</td>\n",
              "      <td>1</td>\n",
              "    </tr>\n",
              "    <tr>\n",
              "      <th>4</th>\n",
              "      <td>1</td>\n",
              "      <td>139</td>\n",
              "      <td>62</td>\n",
              "      <td>41</td>\n",
              "      <td>480</td>\n",
              "      <td>40.7</td>\n",
              "      <td>0.536</td>\n",
              "      <td>21</td>\n",
              "      <td>0</td>\n",
              "    </tr>\n",
              "  </tbody>\n",
              "</table>\n",
              "</div>"
            ],
            "text/plain": [
              "   Pregnancies  Glucose  BloodPressure  SkinThickness  Insulin   BMI  \\\n",
              "0            2      138             62             35        0  33.6   \n",
              "1            0       84             82             31      125  38.2   \n",
              "2            0      145              0              0        0  44.2   \n",
              "3            0      135             68             42      250  42.3   \n",
              "4            1      139             62             41      480  40.7   \n",
              "\n",
              "   DiabetesPedigreeFunction  Age  Outcome  \n",
              "0                     0.127   47        1  \n",
              "1                     0.233   23        0  \n",
              "2                     0.630   31        1  \n",
              "3                     0.365   24        1  \n",
              "4                     0.536   21        0  "
            ]
          },
          "execution_count": 17,
          "metadata": {},
          "output_type": "execute_result"
        }
      ],
      "source": [
        "# printing the first 5 rows of the dataset\n",
        "raw_df.head()"
      ]
    },
    {
      "cell_type": "code",
      "execution_count": 18,
      "metadata": {
        "colab": {
          "base_uri": "https://localhost:8080/"
        },
        "execution": {
          "iopub.execute_input": "2023-12-03T03:03:19.696312Z",
          "iopub.status.busy": "2023-12-03T03:03:19.695969Z",
          "iopub.status.idle": "2023-12-03T03:03:19.701913Z",
          "shell.execute_reply": "2023-12-03T03:03:19.700728Z",
          "shell.execute_reply.started": "2023-12-03T03:03:19.696284Z"
        },
        "id": "4LQPdkZ-ymSx",
        "outputId": "2e9881d0-e2c0-40a0-ecde-261c78fec3ee",
        "trusted": true
      },
      "outputs": [
        {
          "data": {
            "text/plain": [
              "(2000, 9)"
            ]
          },
          "execution_count": 18,
          "metadata": {},
          "output_type": "execute_result"
        }
      ],
      "source": [
        "raw_df.shape"
      ]
    },
    {
      "cell_type": "code",
      "execution_count": 19,
      "metadata": {
        "colab": {
          "base_uri": "https://localhost:8080/",
          "height": 320
        },
        "execution": {
          "iopub.execute_input": "2023-12-03T03:03:28.022832Z",
          "iopub.status.busy": "2023-12-03T03:03:28.022127Z",
          "iopub.status.idle": "2023-12-03T03:03:28.049407Z",
          "shell.execute_reply": "2023-12-03T03:03:28.048794Z",
          "shell.execute_reply.started": "2023-12-03T03:03:28.022783Z"
        },
        "id": "joamQzWHymSy",
        "outputId": "138559d2-9285-42e2-f717-27d7ce6fee20",
        "trusted": true
      },
      "outputs": [
        {
          "data": {
            "text/html": [
              "<div>\n",
              "<style scoped>\n",
              "    .dataframe tbody tr th:only-of-type {\n",
              "        vertical-align: middle;\n",
              "    }\n",
              "\n",
              "    .dataframe tbody tr th {\n",
              "        vertical-align: top;\n",
              "    }\n",
              "\n",
              "    .dataframe thead th {\n",
              "        text-align: right;\n",
              "    }\n",
              "</style>\n",
              "<table border=\"1\" class=\"dataframe\">\n",
              "  <thead>\n",
              "    <tr style=\"text-align: right;\">\n",
              "      <th></th>\n",
              "      <th>Pregnancies</th>\n",
              "      <th>Glucose</th>\n",
              "      <th>BloodPressure</th>\n",
              "      <th>SkinThickness</th>\n",
              "      <th>Insulin</th>\n",
              "      <th>BMI</th>\n",
              "      <th>DiabetesPedigreeFunction</th>\n",
              "      <th>Age</th>\n",
              "      <th>Outcome</th>\n",
              "    </tr>\n",
              "  </thead>\n",
              "  <tbody>\n",
              "    <tr>\n",
              "      <th>count</th>\n",
              "      <td>2000.000000</td>\n",
              "      <td>2000.000000</td>\n",
              "      <td>2000.000000</td>\n",
              "      <td>2000.000000</td>\n",
              "      <td>2000.000000</td>\n",
              "      <td>2000.000000</td>\n",
              "      <td>2000.000000</td>\n",
              "      <td>2000.000000</td>\n",
              "      <td>2000.000000</td>\n",
              "    </tr>\n",
              "    <tr>\n",
              "      <th>mean</th>\n",
              "      <td>3.703500</td>\n",
              "      <td>121.182500</td>\n",
              "      <td>69.145500</td>\n",
              "      <td>20.935000</td>\n",
              "      <td>80.254000</td>\n",
              "      <td>32.193000</td>\n",
              "      <td>0.470930</td>\n",
              "      <td>33.090500</td>\n",
              "      <td>0.342000</td>\n",
              "    </tr>\n",
              "    <tr>\n",
              "      <th>std</th>\n",
              "      <td>3.306063</td>\n",
              "      <td>32.068636</td>\n",
              "      <td>19.188315</td>\n",
              "      <td>16.103243</td>\n",
              "      <td>111.180534</td>\n",
              "      <td>8.149901</td>\n",
              "      <td>0.323553</td>\n",
              "      <td>11.786423</td>\n",
              "      <td>0.474498</td>\n",
              "    </tr>\n",
              "    <tr>\n",
              "      <th>min</th>\n",
              "      <td>0.000000</td>\n",
              "      <td>0.000000</td>\n",
              "      <td>0.000000</td>\n",
              "      <td>0.000000</td>\n",
              "      <td>0.000000</td>\n",
              "      <td>0.000000</td>\n",
              "      <td>0.078000</td>\n",
              "      <td>21.000000</td>\n",
              "      <td>0.000000</td>\n",
              "    </tr>\n",
              "    <tr>\n",
              "      <th>25%</th>\n",
              "      <td>1.000000</td>\n",
              "      <td>99.000000</td>\n",
              "      <td>63.500000</td>\n",
              "      <td>0.000000</td>\n",
              "      <td>0.000000</td>\n",
              "      <td>27.375000</td>\n",
              "      <td>0.244000</td>\n",
              "      <td>24.000000</td>\n",
              "      <td>0.000000</td>\n",
              "    </tr>\n",
              "    <tr>\n",
              "      <th>50%</th>\n",
              "      <td>3.000000</td>\n",
              "      <td>117.000000</td>\n",
              "      <td>72.000000</td>\n",
              "      <td>23.000000</td>\n",
              "      <td>40.000000</td>\n",
              "      <td>32.300000</td>\n",
              "      <td>0.376000</td>\n",
              "      <td>29.000000</td>\n",
              "      <td>0.000000</td>\n",
              "    </tr>\n",
              "    <tr>\n",
              "      <th>75%</th>\n",
              "      <td>6.000000</td>\n",
              "      <td>141.000000</td>\n",
              "      <td>80.000000</td>\n",
              "      <td>32.000000</td>\n",
              "      <td>130.000000</td>\n",
              "      <td>36.800000</td>\n",
              "      <td>0.624000</td>\n",
              "      <td>40.000000</td>\n",
              "      <td>1.000000</td>\n",
              "    </tr>\n",
              "    <tr>\n",
              "      <th>max</th>\n",
              "      <td>17.000000</td>\n",
              "      <td>199.000000</td>\n",
              "      <td>122.000000</td>\n",
              "      <td>110.000000</td>\n",
              "      <td>744.000000</td>\n",
              "      <td>80.600000</td>\n",
              "      <td>2.420000</td>\n",
              "      <td>81.000000</td>\n",
              "      <td>1.000000</td>\n",
              "    </tr>\n",
              "  </tbody>\n",
              "</table>\n",
              "</div>"
            ],
            "text/plain": [
              "       Pregnancies      Glucose  BloodPressure  SkinThickness      Insulin  \\\n",
              "count  2000.000000  2000.000000    2000.000000    2000.000000  2000.000000   \n",
              "mean      3.703500   121.182500      69.145500      20.935000    80.254000   \n",
              "std       3.306063    32.068636      19.188315      16.103243   111.180534   \n",
              "min       0.000000     0.000000       0.000000       0.000000     0.000000   \n",
              "25%       1.000000    99.000000      63.500000       0.000000     0.000000   \n",
              "50%       3.000000   117.000000      72.000000      23.000000    40.000000   \n",
              "75%       6.000000   141.000000      80.000000      32.000000   130.000000   \n",
              "max      17.000000   199.000000     122.000000     110.000000   744.000000   \n",
              "\n",
              "               BMI  DiabetesPedigreeFunction          Age      Outcome  \n",
              "count  2000.000000               2000.000000  2000.000000  2000.000000  \n",
              "mean     32.193000                  0.470930    33.090500     0.342000  \n",
              "std       8.149901                  0.323553    11.786423     0.474498  \n",
              "min       0.000000                  0.078000    21.000000     0.000000  \n",
              "25%      27.375000                  0.244000    24.000000     0.000000  \n",
              "50%      32.300000                  0.376000    29.000000     0.000000  \n",
              "75%      36.800000                  0.624000    40.000000     1.000000  \n",
              "max      80.600000                  2.420000    81.000000     1.000000  "
            ]
          },
          "execution_count": 19,
          "metadata": {},
          "output_type": "execute_result"
        }
      ],
      "source": [
        "raw_df.describe()"
      ]
    },
    {
      "cell_type": "code",
      "execution_count": 20,
      "metadata": {
        "colab": {
          "base_uri": "https://localhost:8080/"
        },
        "execution": {
          "iopub.execute_input": "2023-12-03T03:03:54.637418Z",
          "iopub.status.busy": "2023-12-03T03:03:54.636749Z",
          "iopub.status.idle": "2023-12-03T03:03:54.644038Z",
          "shell.execute_reply": "2023-12-03T03:03:54.643313Z",
          "shell.execute_reply.started": "2023-12-03T03:03:54.637383Z"
        },
        "id": "o57FY7fsymSy",
        "outputId": "480dab10-1df9-4215-ab87-8b534b5c3a93",
        "trusted": true
      },
      "outputs": [
        {
          "data": {
            "text/plain": [
              "Outcome\n",
              "0    1316\n",
              "1     684\n",
              "Name: count, dtype: int64"
            ]
          },
          "execution_count": 20,
          "metadata": {},
          "output_type": "execute_result"
        }
      ],
      "source": [
        "raw_df['Outcome'].value_counts()"
      ]
    },
    {
      "cell_type": "markdown",
      "metadata": {
        "id": "l_CS-8fmymSz"
      },
      "source": [
        "0 --> Non-Diabetic\n",
        "\n",
        "1 --> Diabetic"
      ]
    },
    {
      "cell_type": "code",
      "execution_count": 21,
      "metadata": {
        "colab": {
          "base_uri": "https://localhost:8080/"
        },
        "execution": {
          "iopub.execute_input": "2023-12-03T03:04:04.231264Z",
          "iopub.status.busy": "2023-12-03T03:04:04.230946Z",
          "iopub.status.idle": "2023-12-03T03:04:04.240326Z",
          "shell.execute_reply": "2023-12-03T03:04:04.239740Z",
          "shell.execute_reply.started": "2023-12-03T03:04:04.231236Z"
        },
        "id": "S4G9mr7mymSz",
        "outputId": "13dda168-14ee-47d2-d493-47152809e984",
        "trusted": true
      },
      "outputs": [
        {
          "data": {
            "text/plain": [
              "<bound method NDFrame.describe of       Pregnancies  Glucose  BloodPressure  SkinThickness  Insulin   BMI  \\\n",
              "0               2      138             62             35        0  33.6   \n",
              "1               0       84             82             31      125  38.2   \n",
              "2               0      145              0              0        0  44.2   \n",
              "3               0      135             68             42      250  42.3   \n",
              "4               1      139             62             41      480  40.7   \n",
              "...           ...      ...            ...            ...      ...   ...   \n",
              "1995            2       75             64             24       55  29.7   \n",
              "1996            8      179             72             42      130  32.7   \n",
              "1997            6       85             78              0        0  31.2   \n",
              "1998            0      129            110             46      130  67.1   \n",
              "1999            2       81             72             15       76  30.1   \n",
              "\n",
              "      DiabetesPedigreeFunction  Age  Outcome  \n",
              "0                        0.127   47        1  \n",
              "1                        0.233   23        0  \n",
              "2                        0.630   31        1  \n",
              "3                        0.365   24        1  \n",
              "4                        0.536   21        0  \n",
              "...                        ...  ...      ...  \n",
              "1995                     0.370   33        0  \n",
              "1996                     0.719   36        1  \n",
              "1997                     0.382   42        0  \n",
              "1998                     0.319   26        1  \n",
              "1999                     0.547   25        0  \n",
              "\n",
              "[2000 rows x 9 columns]>"
            ]
          },
          "execution_count": 21,
          "metadata": {},
          "output_type": "execute_result"
        }
      ],
      "source": [
        "raw_df.describe"
      ]
    },
    {
      "cell_type": "code",
      "execution_count": 22,
      "metadata": {
        "colab": {
          "base_uri": "https://localhost:8080/",
          "height": 381
        },
        "execution": {
          "iopub.execute_input": "2023-12-03T03:04:10.879519Z",
          "iopub.status.busy": "2023-12-03T03:04:10.879055Z",
          "iopub.status.idle": "2023-12-03T03:04:10.904264Z",
          "shell.execute_reply": "2023-12-03T03:04:10.903607Z",
          "shell.execute_reply.started": "2023-12-03T03:04:10.879480Z"
        },
        "id": "ftLaB7iPymSz",
        "outputId": "0adbc19b-a048-4066-c619-abda0bc70a78",
        "trusted": true
      },
      "outputs": [
        {
          "data": {
            "text/html": [
              "<div>\n",
              "<style scoped>\n",
              "    .dataframe tbody tr th:only-of-type {\n",
              "        vertical-align: middle;\n",
              "    }\n",
              "\n",
              "    .dataframe tbody tr th {\n",
              "        vertical-align: top;\n",
              "    }\n",
              "\n",
              "    .dataframe thead th {\n",
              "        text-align: right;\n",
              "    }\n",
              "</style>\n",
              "<table border=\"1\" class=\"dataframe\">\n",
              "  <thead>\n",
              "    <tr style=\"text-align: right;\">\n",
              "      <th></th>\n",
              "      <th>0</th>\n",
              "      <th>1</th>\n",
              "      <th>2</th>\n",
              "      <th>3</th>\n",
              "      <th>4</th>\n",
              "      <th>5</th>\n",
              "      <th>6</th>\n",
              "      <th>7</th>\n",
              "      <th>8</th>\n",
              "      <th>9</th>\n",
              "      <th>...</th>\n",
              "      <th>1990</th>\n",
              "      <th>1991</th>\n",
              "      <th>1992</th>\n",
              "      <th>1993</th>\n",
              "      <th>1994</th>\n",
              "      <th>1995</th>\n",
              "      <th>1996</th>\n",
              "      <th>1997</th>\n",
              "      <th>1998</th>\n",
              "      <th>1999</th>\n",
              "    </tr>\n",
              "  </thead>\n",
              "  <tbody>\n",
              "    <tr>\n",
              "      <th>Pregnancies</th>\n",
              "      <td>2.000</td>\n",
              "      <td>0.000</td>\n",
              "      <td>0.00</td>\n",
              "      <td>0.000</td>\n",
              "      <td>1.000</td>\n",
              "      <td>0.000</td>\n",
              "      <td>4.000</td>\n",
              "      <td>8.000</td>\n",
              "      <td>2.000</td>\n",
              "      <td>2.000</td>\n",
              "      <td>...</td>\n",
              "      <td>3.000</td>\n",
              "      <td>6.00</td>\n",
              "      <td>6.000</td>\n",
              "      <td>2.000</td>\n",
              "      <td>1.000</td>\n",
              "      <td>2.00</td>\n",
              "      <td>8.000</td>\n",
              "      <td>6.000</td>\n",
              "      <td>0.000</td>\n",
              "      <td>2.000</td>\n",
              "    </tr>\n",
              "    <tr>\n",
              "      <th>Glucose</th>\n",
              "      <td>138.000</td>\n",
              "      <td>84.000</td>\n",
              "      <td>145.00</td>\n",
              "      <td>135.000</td>\n",
              "      <td>139.000</td>\n",
              "      <td>173.000</td>\n",
              "      <td>99.000</td>\n",
              "      <td>194.000</td>\n",
              "      <td>83.000</td>\n",
              "      <td>89.000</td>\n",
              "      <td>...</td>\n",
              "      <td>111.000</td>\n",
              "      <td>102.00</td>\n",
              "      <td>134.000</td>\n",
              "      <td>87.000</td>\n",
              "      <td>79.000</td>\n",
              "      <td>75.00</td>\n",
              "      <td>179.000</td>\n",
              "      <td>85.000</td>\n",
              "      <td>129.000</td>\n",
              "      <td>81.000</td>\n",
              "    </tr>\n",
              "    <tr>\n",
              "      <th>BloodPressure</th>\n",
              "      <td>62.000</td>\n",
              "      <td>82.000</td>\n",
              "      <td>0.00</td>\n",
              "      <td>68.000</td>\n",
              "      <td>62.000</td>\n",
              "      <td>78.000</td>\n",
              "      <td>72.000</td>\n",
              "      <td>80.000</td>\n",
              "      <td>65.000</td>\n",
              "      <td>90.000</td>\n",
              "      <td>...</td>\n",
              "      <td>90.000</td>\n",
              "      <td>82.00</td>\n",
              "      <td>70.000</td>\n",
              "      <td>0.000</td>\n",
              "      <td>60.000</td>\n",
              "      <td>64.00</td>\n",
              "      <td>72.000</td>\n",
              "      <td>78.000</td>\n",
              "      <td>110.000</td>\n",
              "      <td>72.000</td>\n",
              "    </tr>\n",
              "    <tr>\n",
              "      <th>SkinThickness</th>\n",
              "      <td>35.000</td>\n",
              "      <td>31.000</td>\n",
              "      <td>0.00</td>\n",
              "      <td>42.000</td>\n",
              "      <td>41.000</td>\n",
              "      <td>32.000</td>\n",
              "      <td>17.000</td>\n",
              "      <td>0.000</td>\n",
              "      <td>28.000</td>\n",
              "      <td>30.000</td>\n",
              "      <td>...</td>\n",
              "      <td>12.000</td>\n",
              "      <td>0.00</td>\n",
              "      <td>23.000</td>\n",
              "      <td>23.000</td>\n",
              "      <td>42.000</td>\n",
              "      <td>24.00</td>\n",
              "      <td>42.000</td>\n",
              "      <td>0.000</td>\n",
              "      <td>46.000</td>\n",
              "      <td>15.000</td>\n",
              "    </tr>\n",
              "    <tr>\n",
              "      <th>Insulin</th>\n",
              "      <td>0.000</td>\n",
              "      <td>125.000</td>\n",
              "      <td>0.00</td>\n",
              "      <td>250.000</td>\n",
              "      <td>480.000</td>\n",
              "      <td>265.000</td>\n",
              "      <td>0.000</td>\n",
              "      <td>0.000</td>\n",
              "      <td>66.000</td>\n",
              "      <td>0.000</td>\n",
              "      <td>...</td>\n",
              "      <td>78.000</td>\n",
              "      <td>0.00</td>\n",
              "      <td>130.000</td>\n",
              "      <td>0.000</td>\n",
              "      <td>48.000</td>\n",
              "      <td>55.00</td>\n",
              "      <td>130.000</td>\n",
              "      <td>0.000</td>\n",
              "      <td>130.000</td>\n",
              "      <td>76.000</td>\n",
              "    </tr>\n",
              "    <tr>\n",
              "      <th>BMI</th>\n",
              "      <td>33.600</td>\n",
              "      <td>38.200</td>\n",
              "      <td>44.20</td>\n",
              "      <td>42.300</td>\n",
              "      <td>40.700</td>\n",
              "      <td>46.500</td>\n",
              "      <td>25.600</td>\n",
              "      <td>26.100</td>\n",
              "      <td>36.800</td>\n",
              "      <td>33.500</td>\n",
              "      <td>...</td>\n",
              "      <td>28.400</td>\n",
              "      <td>30.80</td>\n",
              "      <td>35.400</td>\n",
              "      <td>28.900</td>\n",
              "      <td>43.500</td>\n",
              "      <td>29.70</td>\n",
              "      <td>32.700</td>\n",
              "      <td>31.200</td>\n",
              "      <td>67.100</td>\n",
              "      <td>30.100</td>\n",
              "    </tr>\n",
              "    <tr>\n",
              "      <th>DiabetesPedigreeFunction</th>\n",
              "      <td>0.127</td>\n",
              "      <td>0.233</td>\n",
              "      <td>0.63</td>\n",
              "      <td>0.365</td>\n",
              "      <td>0.536</td>\n",
              "      <td>1.159</td>\n",
              "      <td>0.294</td>\n",
              "      <td>0.551</td>\n",
              "      <td>0.629</td>\n",
              "      <td>0.292</td>\n",
              "      <td>...</td>\n",
              "      <td>0.495</td>\n",
              "      <td>0.18</td>\n",
              "      <td>0.542</td>\n",
              "      <td>0.773</td>\n",
              "      <td>0.678</td>\n",
              "      <td>0.37</td>\n",
              "      <td>0.719</td>\n",
              "      <td>0.382</td>\n",
              "      <td>0.319</td>\n",
              "      <td>0.547</td>\n",
              "    </tr>\n",
              "    <tr>\n",
              "      <th>Age</th>\n",
              "      <td>47.000</td>\n",
              "      <td>23.000</td>\n",
              "      <td>31.00</td>\n",
              "      <td>24.000</td>\n",
              "      <td>21.000</td>\n",
              "      <td>58.000</td>\n",
              "      <td>28.000</td>\n",
              "      <td>67.000</td>\n",
              "      <td>24.000</td>\n",
              "      <td>42.000</td>\n",
              "      <td>...</td>\n",
              "      <td>29.000</td>\n",
              "      <td>36.00</td>\n",
              "      <td>29.000</td>\n",
              "      <td>25.000</td>\n",
              "      <td>23.000</td>\n",
              "      <td>33.00</td>\n",
              "      <td>36.000</td>\n",
              "      <td>42.000</td>\n",
              "      <td>26.000</td>\n",
              "      <td>25.000</td>\n",
              "    </tr>\n",
              "    <tr>\n",
              "      <th>Outcome</th>\n",
              "      <td>1.000</td>\n",
              "      <td>0.000</td>\n",
              "      <td>1.00</td>\n",
              "      <td>1.000</td>\n",
              "      <td>0.000</td>\n",
              "      <td>0.000</td>\n",
              "      <td>0.000</td>\n",
              "      <td>0.000</td>\n",
              "      <td>0.000</td>\n",
              "      <td>0.000</td>\n",
              "      <td>...</td>\n",
              "      <td>0.000</td>\n",
              "      <td>1.00</td>\n",
              "      <td>1.000</td>\n",
              "      <td>0.000</td>\n",
              "      <td>0.000</td>\n",
              "      <td>0.00</td>\n",
              "      <td>1.000</td>\n",
              "      <td>0.000</td>\n",
              "      <td>1.000</td>\n",
              "      <td>0.000</td>\n",
              "    </tr>\n",
              "  </tbody>\n",
              "</table>\n",
              "<p>9 rows × 2000 columns</p>\n",
              "</div>"
            ],
            "text/plain": [
              "                             0        1       2        3        4        5     \\\n",
              "Pregnancies                 2.000    0.000    0.00    0.000    1.000    0.000   \n",
              "Glucose                   138.000   84.000  145.00  135.000  139.000  173.000   \n",
              "BloodPressure              62.000   82.000    0.00   68.000   62.000   78.000   \n",
              "SkinThickness              35.000   31.000    0.00   42.000   41.000   32.000   \n",
              "Insulin                     0.000  125.000    0.00  250.000  480.000  265.000   \n",
              "BMI                        33.600   38.200   44.20   42.300   40.700   46.500   \n",
              "DiabetesPedigreeFunction    0.127    0.233    0.63    0.365    0.536    1.159   \n",
              "Age                        47.000   23.000   31.00   24.000   21.000   58.000   \n",
              "Outcome                     1.000    0.000    1.00    1.000    0.000    0.000   \n",
              "\n",
              "                            6        7       8       9     ...     1990  \\\n",
              "Pregnancies                4.000    8.000   2.000   2.000  ...    3.000   \n",
              "Glucose                   99.000  194.000  83.000  89.000  ...  111.000   \n",
              "BloodPressure             72.000   80.000  65.000  90.000  ...   90.000   \n",
              "SkinThickness             17.000    0.000  28.000  30.000  ...   12.000   \n",
              "Insulin                    0.000    0.000  66.000   0.000  ...   78.000   \n",
              "BMI                       25.600   26.100  36.800  33.500  ...   28.400   \n",
              "DiabetesPedigreeFunction   0.294    0.551   0.629   0.292  ...    0.495   \n",
              "Age                       28.000   67.000  24.000  42.000  ...   29.000   \n",
              "Outcome                    0.000    0.000   0.000   0.000  ...    0.000   \n",
              "\n",
              "                            1991     1992    1993    1994   1995     1996  \\\n",
              "Pregnancies                 6.00    6.000   2.000   1.000   2.00    8.000   \n",
              "Glucose                   102.00  134.000  87.000  79.000  75.00  179.000   \n",
              "BloodPressure              82.00   70.000   0.000  60.000  64.00   72.000   \n",
              "SkinThickness               0.00   23.000  23.000  42.000  24.00   42.000   \n",
              "Insulin                     0.00  130.000   0.000  48.000  55.00  130.000   \n",
              "BMI                        30.80   35.400  28.900  43.500  29.70   32.700   \n",
              "DiabetesPedigreeFunction    0.18    0.542   0.773   0.678   0.37    0.719   \n",
              "Age                        36.00   29.000  25.000  23.000  33.00   36.000   \n",
              "Outcome                     1.00    1.000   0.000   0.000   0.00    1.000   \n",
              "\n",
              "                            1997     1998    1999  \n",
              "Pregnancies                6.000    0.000   2.000  \n",
              "Glucose                   85.000  129.000  81.000  \n",
              "BloodPressure             78.000  110.000  72.000  \n",
              "SkinThickness              0.000   46.000  15.000  \n",
              "Insulin                    0.000  130.000  76.000  \n",
              "BMI                       31.200   67.100  30.100  \n",
              "DiabetesPedigreeFunction   0.382    0.319   0.547  \n",
              "Age                       42.000   26.000  25.000  \n",
              "Outcome                    0.000    1.000   0.000  \n",
              "\n",
              "[9 rows x 2000 columns]"
            ]
          },
          "execution_count": 22,
          "metadata": {},
          "output_type": "execute_result"
        }
      ],
      "source": [
        "raw_df.T"
      ]
    },
    {
      "cell_type": "code",
      "execution_count": 23,
      "metadata": {
        "colab": {
          "base_uri": "https://localhost:8080/"
        },
        "execution": {
          "iopub.execute_input": "2023-12-03T03:05:41.955005Z",
          "iopub.status.busy": "2023-12-03T03:05:41.954166Z",
          "iopub.status.idle": "2023-12-03T03:05:41.964707Z",
          "shell.execute_reply": "2023-12-03T03:05:41.964075Z",
          "shell.execute_reply.started": "2023-12-03T03:05:41.954967Z"
        },
        "id": "QpGBVIK4ymS0",
        "outputId": "a8bb2108-3c41-40c9-ae54-e83a690ce204",
        "trusted": true
      },
      "outputs": [
        {
          "name": "stdout",
          "output_type": "stream",
          "text": [
            "<class 'pandas.core.frame.DataFrame'>\n",
            "RangeIndex: 2000 entries, 0 to 1999\n",
            "Data columns (total 9 columns):\n",
            " #   Column                    Non-Null Count  Dtype  \n",
            "---  ------                    --------------  -----  \n",
            " 0   Pregnancies               2000 non-null   int64  \n",
            " 1   Glucose                   2000 non-null   int64  \n",
            " 2   BloodPressure             2000 non-null   int64  \n",
            " 3   SkinThickness             2000 non-null   int64  \n",
            " 4   Insulin                   2000 non-null   int64  \n",
            " 5   BMI                       2000 non-null   float64\n",
            " 6   DiabetesPedigreeFunction  2000 non-null   float64\n",
            " 7   Age                       2000 non-null   int64  \n",
            " 8   Outcome                   2000 non-null   int64  \n",
            "dtypes: float64(2), int64(7)\n",
            "memory usage: 140.8 KB\n"
          ]
        }
      ],
      "source": [
        "raw_df.info()"
      ]
    },
    {
      "cell_type": "code",
      "execution_count": 24,
      "metadata": {
        "colab": {
          "base_uri": "https://localhost:8080/",
          "height": 332
        },
        "execution": {
          "iopub.execute_input": "2023-12-03T03:05:48.230124Z",
          "iopub.status.busy": "2023-12-03T03:05:48.229746Z",
          "iopub.status.idle": "2023-12-03T03:05:48.259437Z",
          "shell.execute_reply": "2023-12-03T03:05:48.258781Z",
          "shell.execute_reply.started": "2023-12-03T03:05:48.230093Z"
        },
        "id": "yu3f0v2ZymS0",
        "outputId": "562a61eb-cdef-45a4-e905-79a09c9bde84",
        "trusted": true
      },
      "outputs": [
        {
          "data": {
            "text/html": [
              "<div>\n",
              "<style scoped>\n",
              "    .dataframe tbody tr th:only-of-type {\n",
              "        vertical-align: middle;\n",
              "    }\n",
              "\n",
              "    .dataframe tbody tr th {\n",
              "        vertical-align: top;\n",
              "    }\n",
              "\n",
              "    .dataframe thead th {\n",
              "        text-align: right;\n",
              "    }\n",
              "</style>\n",
              "<table border=\"1\" class=\"dataframe\">\n",
              "  <thead>\n",
              "    <tr style=\"text-align: right;\">\n",
              "      <th></th>\n",
              "      <th>count</th>\n",
              "      <th>mean</th>\n",
              "      <th>std</th>\n",
              "      <th>min</th>\n",
              "      <th>25%</th>\n",
              "      <th>50%</th>\n",
              "      <th>75%</th>\n",
              "      <th>max</th>\n",
              "    </tr>\n",
              "  </thead>\n",
              "  <tbody>\n",
              "    <tr>\n",
              "      <th>Pregnancies</th>\n",
              "      <td>2000.0</td>\n",
              "      <td>3.70350</td>\n",
              "      <td>3.306063</td>\n",
              "      <td>0.000</td>\n",
              "      <td>1.000</td>\n",
              "      <td>3.000</td>\n",
              "      <td>6.000</td>\n",
              "      <td>17.00</td>\n",
              "    </tr>\n",
              "    <tr>\n",
              "      <th>Glucose</th>\n",
              "      <td>2000.0</td>\n",
              "      <td>121.18250</td>\n",
              "      <td>32.068636</td>\n",
              "      <td>0.000</td>\n",
              "      <td>99.000</td>\n",
              "      <td>117.000</td>\n",
              "      <td>141.000</td>\n",
              "      <td>199.00</td>\n",
              "    </tr>\n",
              "    <tr>\n",
              "      <th>BloodPressure</th>\n",
              "      <td>2000.0</td>\n",
              "      <td>69.14550</td>\n",
              "      <td>19.188315</td>\n",
              "      <td>0.000</td>\n",
              "      <td>63.500</td>\n",
              "      <td>72.000</td>\n",
              "      <td>80.000</td>\n",
              "      <td>122.00</td>\n",
              "    </tr>\n",
              "    <tr>\n",
              "      <th>SkinThickness</th>\n",
              "      <td>2000.0</td>\n",
              "      <td>20.93500</td>\n",
              "      <td>16.103243</td>\n",
              "      <td>0.000</td>\n",
              "      <td>0.000</td>\n",
              "      <td>23.000</td>\n",
              "      <td>32.000</td>\n",
              "      <td>110.00</td>\n",
              "    </tr>\n",
              "    <tr>\n",
              "      <th>Insulin</th>\n",
              "      <td>2000.0</td>\n",
              "      <td>80.25400</td>\n",
              "      <td>111.180534</td>\n",
              "      <td>0.000</td>\n",
              "      <td>0.000</td>\n",
              "      <td>40.000</td>\n",
              "      <td>130.000</td>\n",
              "      <td>744.00</td>\n",
              "    </tr>\n",
              "    <tr>\n",
              "      <th>BMI</th>\n",
              "      <td>2000.0</td>\n",
              "      <td>32.19300</td>\n",
              "      <td>8.149901</td>\n",
              "      <td>0.000</td>\n",
              "      <td>27.375</td>\n",
              "      <td>32.300</td>\n",
              "      <td>36.800</td>\n",
              "      <td>80.60</td>\n",
              "    </tr>\n",
              "    <tr>\n",
              "      <th>DiabetesPedigreeFunction</th>\n",
              "      <td>2000.0</td>\n",
              "      <td>0.47093</td>\n",
              "      <td>0.323553</td>\n",
              "      <td>0.078</td>\n",
              "      <td>0.244</td>\n",
              "      <td>0.376</td>\n",
              "      <td>0.624</td>\n",
              "      <td>2.42</td>\n",
              "    </tr>\n",
              "    <tr>\n",
              "      <th>Age</th>\n",
              "      <td>2000.0</td>\n",
              "      <td>33.09050</td>\n",
              "      <td>11.786423</td>\n",
              "      <td>21.000</td>\n",
              "      <td>24.000</td>\n",
              "      <td>29.000</td>\n",
              "      <td>40.000</td>\n",
              "      <td>81.00</td>\n",
              "    </tr>\n",
              "    <tr>\n",
              "      <th>Outcome</th>\n",
              "      <td>2000.0</td>\n",
              "      <td>0.34200</td>\n",
              "      <td>0.474498</td>\n",
              "      <td>0.000</td>\n",
              "      <td>0.000</td>\n",
              "      <td>0.000</td>\n",
              "      <td>1.000</td>\n",
              "      <td>1.00</td>\n",
              "    </tr>\n",
              "  </tbody>\n",
              "</table>\n",
              "</div>"
            ],
            "text/plain": [
              "                           count       mean         std     min     25%  \\\n",
              "Pregnancies               2000.0    3.70350    3.306063   0.000   1.000   \n",
              "Glucose                   2000.0  121.18250   32.068636   0.000  99.000   \n",
              "BloodPressure             2000.0   69.14550   19.188315   0.000  63.500   \n",
              "SkinThickness             2000.0   20.93500   16.103243   0.000   0.000   \n",
              "Insulin                   2000.0   80.25400  111.180534   0.000   0.000   \n",
              "BMI                       2000.0   32.19300    8.149901   0.000  27.375   \n",
              "DiabetesPedigreeFunction  2000.0    0.47093    0.323553   0.078   0.244   \n",
              "Age                       2000.0   33.09050   11.786423  21.000  24.000   \n",
              "Outcome                   2000.0    0.34200    0.474498   0.000   0.000   \n",
              "\n",
              "                              50%      75%     max  \n",
              "Pregnancies                 3.000    6.000   17.00  \n",
              "Glucose                   117.000  141.000  199.00  \n",
              "BloodPressure              72.000   80.000  122.00  \n",
              "SkinThickness              23.000   32.000  110.00  \n",
              "Insulin                    40.000  130.000  744.00  \n",
              "BMI                        32.300   36.800   80.60  \n",
              "DiabetesPedigreeFunction    0.376    0.624    2.42  \n",
              "Age                        29.000   40.000   81.00  \n",
              "Outcome                     0.000    1.000    1.00  "
            ]
          },
          "execution_count": 24,
          "metadata": {},
          "output_type": "execute_result"
        }
      ],
      "source": [
        "raw_df.describe().T"
      ]
    },
    {
      "cell_type": "code",
      "execution_count": 25,
      "metadata": {
        "colab": {
          "base_uri": "https://localhost:8080/"
        },
        "execution": {
          "iopub.execute_input": "2023-12-03T03:05:52.599605Z",
          "iopub.status.busy": "2023-12-03T03:05:52.599233Z",
          "iopub.status.idle": "2023-12-03T03:05:52.606233Z",
          "shell.execute_reply": "2023-12-03T03:05:52.605539Z",
          "shell.execute_reply.started": "2023-12-03T03:05:52.599574Z"
        },
        "id": "ynA0JV2PymS1",
        "outputId": "481c0968-409e-4d8c-8ec3-4b9743aceb86",
        "trusted": true
      },
      "outputs": [
        {
          "data": {
            "text/plain": [
              "Pregnancies                 0\n",
              "Glucose                     0\n",
              "BloodPressure               0\n",
              "SkinThickness               0\n",
              "Insulin                     0\n",
              "BMI                         0\n",
              "DiabetesPedigreeFunction    0\n",
              "Age                         0\n",
              "Outcome                     0\n",
              "dtype: int64"
            ]
          },
          "execution_count": 25,
          "metadata": {},
          "output_type": "execute_result"
        }
      ],
      "source": [
        "raw_df.isnull().sum()"
      ]
    },
    {
      "cell_type": "code",
      "execution_count": 26,
      "metadata": {
        "colab": {
          "base_uri": "https://localhost:8080/",
          "height": 320
        },
        "execution": {
          "iopub.execute_input": "2023-12-03T03:07:25.532871Z",
          "iopub.status.busy": "2023-12-03T03:07:25.532541Z",
          "iopub.status.idle": "2023-12-03T03:07:25.559799Z",
          "shell.execute_reply": "2023-12-03T03:07:25.559174Z",
          "shell.execute_reply.started": "2023-12-03T03:07:25.532828Z"
        },
        "id": "z34HiJk1ymS1",
        "outputId": "aafa4456-efb4-442f-8c3d-4f68ee1bcefe",
        "trusted": true
      },
      "outputs": [
        {
          "data": {
            "text/html": [
              "<div>\n",
              "<style scoped>\n",
              "    .dataframe tbody tr th:only-of-type {\n",
              "        vertical-align: middle;\n",
              "    }\n",
              "\n",
              "    .dataframe tbody tr th {\n",
              "        vertical-align: top;\n",
              "    }\n",
              "\n",
              "    .dataframe thead th {\n",
              "        text-align: right;\n",
              "    }\n",
              "</style>\n",
              "<table border=\"1\" class=\"dataframe\">\n",
              "  <thead>\n",
              "    <tr style=\"text-align: right;\">\n",
              "      <th></th>\n",
              "      <th>Pregnancies</th>\n",
              "      <th>Glucose</th>\n",
              "      <th>BloodPressure</th>\n",
              "      <th>SkinThickness</th>\n",
              "      <th>Insulin</th>\n",
              "      <th>BMI</th>\n",
              "      <th>DiabetesPedigreeFunction</th>\n",
              "      <th>Age</th>\n",
              "      <th>Outcome</th>\n",
              "    </tr>\n",
              "  </thead>\n",
              "  <tbody>\n",
              "    <tr>\n",
              "      <th>count</th>\n",
              "      <td>2000.000000</td>\n",
              "      <td>2000.000000</td>\n",
              "      <td>2000.000000</td>\n",
              "      <td>2000.000000</td>\n",
              "      <td>2000.000000</td>\n",
              "      <td>2000.000000</td>\n",
              "      <td>2000.000000</td>\n",
              "      <td>2000.000000</td>\n",
              "      <td>2000.000000</td>\n",
              "    </tr>\n",
              "    <tr>\n",
              "      <th>mean</th>\n",
              "      <td>3.703500</td>\n",
              "      <td>121.182500</td>\n",
              "      <td>69.145500</td>\n",
              "      <td>20.935000</td>\n",
              "      <td>80.254000</td>\n",
              "      <td>32.193000</td>\n",
              "      <td>0.470930</td>\n",
              "      <td>33.090500</td>\n",
              "      <td>0.342000</td>\n",
              "    </tr>\n",
              "    <tr>\n",
              "      <th>std</th>\n",
              "      <td>3.306063</td>\n",
              "      <td>32.068636</td>\n",
              "      <td>19.188315</td>\n",
              "      <td>16.103243</td>\n",
              "      <td>111.180534</td>\n",
              "      <td>8.149901</td>\n",
              "      <td>0.323553</td>\n",
              "      <td>11.786423</td>\n",
              "      <td>0.474498</td>\n",
              "    </tr>\n",
              "    <tr>\n",
              "      <th>min</th>\n",
              "      <td>0.000000</td>\n",
              "      <td>0.000000</td>\n",
              "      <td>0.000000</td>\n",
              "      <td>0.000000</td>\n",
              "      <td>0.000000</td>\n",
              "      <td>0.000000</td>\n",
              "      <td>0.078000</td>\n",
              "      <td>21.000000</td>\n",
              "      <td>0.000000</td>\n",
              "    </tr>\n",
              "    <tr>\n",
              "      <th>25%</th>\n",
              "      <td>1.000000</td>\n",
              "      <td>99.000000</td>\n",
              "      <td>63.500000</td>\n",
              "      <td>0.000000</td>\n",
              "      <td>0.000000</td>\n",
              "      <td>27.375000</td>\n",
              "      <td>0.244000</td>\n",
              "      <td>24.000000</td>\n",
              "      <td>0.000000</td>\n",
              "    </tr>\n",
              "    <tr>\n",
              "      <th>50%</th>\n",
              "      <td>3.000000</td>\n",
              "      <td>117.000000</td>\n",
              "      <td>72.000000</td>\n",
              "      <td>23.000000</td>\n",
              "      <td>40.000000</td>\n",
              "      <td>32.300000</td>\n",
              "      <td>0.376000</td>\n",
              "      <td>29.000000</td>\n",
              "      <td>0.000000</td>\n",
              "    </tr>\n",
              "    <tr>\n",
              "      <th>75%</th>\n",
              "      <td>6.000000</td>\n",
              "      <td>141.000000</td>\n",
              "      <td>80.000000</td>\n",
              "      <td>32.000000</td>\n",
              "      <td>130.000000</td>\n",
              "      <td>36.800000</td>\n",
              "      <td>0.624000</td>\n",
              "      <td>40.000000</td>\n",
              "      <td>1.000000</td>\n",
              "    </tr>\n",
              "    <tr>\n",
              "      <th>max</th>\n",
              "      <td>17.000000</td>\n",
              "      <td>199.000000</td>\n",
              "      <td>122.000000</td>\n",
              "      <td>110.000000</td>\n",
              "      <td>744.000000</td>\n",
              "      <td>80.600000</td>\n",
              "      <td>2.420000</td>\n",
              "      <td>81.000000</td>\n",
              "      <td>1.000000</td>\n",
              "    </tr>\n",
              "  </tbody>\n",
              "</table>\n",
              "</div>"
            ],
            "text/plain": [
              "       Pregnancies      Glucose  BloodPressure  SkinThickness      Insulin  \\\n",
              "count  2000.000000  2000.000000    2000.000000    2000.000000  2000.000000   \n",
              "mean      3.703500   121.182500      69.145500      20.935000    80.254000   \n",
              "std       3.306063    32.068636      19.188315      16.103243   111.180534   \n",
              "min       0.000000     0.000000       0.000000       0.000000     0.000000   \n",
              "25%       1.000000    99.000000      63.500000       0.000000     0.000000   \n",
              "50%       3.000000   117.000000      72.000000      23.000000    40.000000   \n",
              "75%       6.000000   141.000000      80.000000      32.000000   130.000000   \n",
              "max      17.000000   199.000000     122.000000     110.000000   744.000000   \n",
              "\n",
              "               BMI  DiabetesPedigreeFunction          Age      Outcome  \n",
              "count  2000.000000               2000.000000  2000.000000  2000.000000  \n",
              "mean     32.193000                  0.470930    33.090500     0.342000  \n",
              "std       8.149901                  0.323553    11.786423     0.474498  \n",
              "min       0.000000                  0.078000    21.000000     0.000000  \n",
              "25%      27.375000                  0.244000    24.000000     0.000000  \n",
              "50%      32.300000                  0.376000    29.000000     0.000000  \n",
              "75%      36.800000                  0.624000    40.000000     1.000000  \n",
              "max      80.600000                  2.420000    81.000000     1.000000  "
            ]
          },
          "execution_count": 26,
          "metadata": {},
          "output_type": "execute_result"
        }
      ],
      "source": [
        "raw_df.describe()"
      ]
    },
    {
      "cell_type": "markdown",
      "metadata": {
        "id": "atTNH_kAymS1"
      },
      "source": [
        "### This shows that there are:\n",
        "- rows where `Glucose` is 0\n",
        "- rows where `BloodPressure` is 0\n",
        "- rows where `SkinThickness` is 0\n",
        "- rows where `Insulin` is 0\n",
        "- rows where `BMI` is 0\n",
        "which is not possible.\\\n",
        "Lets impute those rows with there column mean."
      ]
    },
    {
      "cell_type": "code",
      "execution_count": 27,
      "metadata": {
        "colab": {
          "base_uri": "https://localhost:8080/"
        },
        "execution": {
          "iopub.execute_input": "2023-12-03T03:09:22.851300Z",
          "iopub.status.busy": "2023-12-03T03:09:22.850922Z",
          "iopub.status.idle": "2023-12-03T03:09:22.860840Z",
          "shell.execute_reply": "2023-12-03T03:09:22.859815Z",
          "shell.execute_reply.started": "2023-12-03T03:09:22.851268Z"
        },
        "id": "mre4EL0eymS2",
        "outputId": "f5abd394-bff2-4789-b4fb-b9cfbd4cd695",
        "trusted": true
      },
      "outputs": [
        {
          "data": {
            "text/plain": [
              "Glucose           13\n",
              "BloodPressure     90\n",
              "SkinThickness    573\n",
              "Insulin          956\n",
              "BMI               28\n",
              "dtype: int64"
            ]
          },
          "execution_count": 27,
          "metadata": {},
          "output_type": "execute_result"
        }
      ],
      "source": [
        "# First lets check how many 0 values are in these columns\n",
        "featureList = ['Glucose', 'BloodPressure', 'SkinThickness', 'Insulin', 'BMI']\n",
        "raw_df[featureList].isin([0]).sum()"
      ]
    },
    {
      "cell_type": "markdown",
      "metadata": {
        "id": "Ven_-h-WymS2"
      },
      "source": [
        "### for `Glucose`, `BloodPressure`, `SkinThickness` and `BMI`\n",
        "due to low number of '0' values we can impute it with their mean.\\\n",
        "But we will have to check it imputing in `Insulin` will affect accuracy\n",
        "beacuse there are around ~50% data that is '0'."
      ]
    },
    {
      "cell_type": "code",
      "execution_count": 28,
      "metadata": {
        "colab": {
          "base_uri": "https://localhost:8080/"
        },
        "execution": {
          "iopub.execute_input": "2023-12-03T03:13:33.676903Z",
          "iopub.status.busy": "2023-12-03T03:13:33.676218Z",
          "iopub.status.idle": "2023-12-03T03:13:33.689931Z",
          "shell.execute_reply": "2023-12-03T03:13:33.689276Z",
          "shell.execute_reply.started": "2023-12-03T03:13:33.676838Z"
        },
        "id": "bZYE4P9iymS2",
        "outputId": "3a185e21-f941-4748-9102-76127051a566",
        "trusted": true
      },
      "outputs": [
        {
          "data": {
            "text/plain": [
              "Glucose            0\n",
              "BloodPressure      0\n",
              "SkinThickness      0\n",
              "Insulin          956\n",
              "BMI                0\n",
              "dtype: int64"
            ]
          },
          "execution_count": 28,
          "metadata": {},
          "output_type": "execute_result"
        }
      ],
      "source": [
        "# For Glucose\n",
        "raw_df[\"Glucose\"] = raw_df[\"Glucose\"].replace({ 0 : raw_df[\"Glucose\"].mean()})\n",
        "\n",
        "# For BloodPressure\n",
        "raw_df[\"BloodPressure\"] = raw_df[\"BloodPressure\"].replace({ 0 : raw_df[\"BloodPressure\"].mean()})\n",
        "\n",
        "# For SkinThickness\n",
        "raw_df[\"SkinThickness\"] = raw_df[\"SkinThickness\"].replace({ 0 : raw_df[\"SkinThickness\"].mean()})\n",
        "\n",
        "# For BMI\n",
        "raw_df[\"BMI\"] = raw_df[\"BMI\"].replace({ 0 : raw_df[\"BMI\"].mean()})\n",
        "\n",
        "# Lets checkif it worked\n",
        "raw_df[featureList].isin([0]).sum()"
      ]
    },
    {
      "cell_type": "markdown",
      "metadata": {
        "id": "bZXBwA-rymS3"
      },
      "source": [
        "Because there are 956/2000 rows of `Insulin` where data is '0'\n",
        "we will train 2 models where we drop `Insulin` and where we impute it."
      ]
    },
    {
      "cell_type": "code",
      "execution_count": 29,
      "metadata": {
        "colab": {
          "base_uri": "https://localhost:8080/"
        },
        "execution": {
          "iopub.execute_input": "2023-12-03T03:15:36.120252Z",
          "iopub.status.busy": "2023-12-03T03:15:36.119905Z",
          "iopub.status.idle": "2023-12-03T03:15:36.128093Z",
          "shell.execute_reply": "2023-12-03T03:15:36.127308Z",
          "shell.execute_reply.started": "2023-12-03T03:15:36.120224Z"
        },
        "id": "q3tB-6JNymS3",
        "outputId": "237750d2-449f-4ba5-c442-24c980efaace",
        "trusted": true
      },
      "outputs": [
        {
          "data": {
            "text/plain": [
              "(1044, 9)"
            ]
          },
          "execution_count": 29,
          "metadata": {},
          "output_type": "execute_result"
        }
      ],
      "source": [
        "raw_df_idroped = raw_df.drop(raw_df[raw_df[\"Insulin\"] == 0].index, axis=0)\n",
        "raw_df_idroped.shape"
      ]
    },
    {
      "cell_type": "markdown",
      "metadata": {
        "id": "V3KxPCEuymS3"
      },
      "source": [
        "#### distributions of each feature"
      ]
    },
    {
      "cell_type": "code",
      "execution_count": 30,
      "metadata": {
        "colab": {
          "base_uri": "https://localhost:8080/",
          "height": 958
        },
        "execution": {
          "iopub.execute_input": "2023-12-03T03:31:42.325592Z",
          "iopub.status.busy": "2023-12-03T03:31:42.324963Z",
          "iopub.status.idle": "2023-12-03T03:31:43.794959Z",
          "shell.execute_reply": "2023-12-03T03:31:43.794256Z",
          "shell.execute_reply.started": "2023-12-03T03:31:42.325558Z"
        },
        "id": "oCVzpd_FymS3",
        "outputId": "a7be5f94-f1ae-4a70-b987-d20f4440df5b",
        "trusted": true
      },
      "outputs": [
        {
          "data": {
            "image/png": "[encoded data removed]",
            "text/plain": [
              "<Figure size 2000x2000 with 9 Axes>"
            ]
          },
          "metadata": {},
          "output_type": "display_data"
        }
      ],
      "source": [
        "raw_df_idroped.hist(figsize=(20,20))\n",
        "plt.show()"
      ]
    },
    {
      "cell_type": "markdown",
      "metadata": {
        "id": "JwQkoS3GymS4"
      },
      "source": [
        "## Check the proportion of the class from each feature"
      ]
    },
    {
      "cell_type": "markdown",
      "metadata": {
        "id": "pGHbYnoeymS4"
      },
      "source": [
        "### Baseline (Zero-R)\n"
      ]
    },
    {
      "cell_type": "code",
      "execution_count": 31,
      "metadata": {
        "colab": {
          "base_uri": "https://localhost:8080/"
        },
        "execution": {
          "iopub.execute_input": "2023-12-03T03:32:04.961591Z",
          "iopub.status.busy": "2023-12-03T03:32:04.960909Z",
          "iopub.status.idle": "2023-12-03T03:32:04.970050Z",
          "shell.execute_reply": "2023-12-03T03:32:04.968825Z",
          "shell.execute_reply.started": "2023-12-03T03:32:04.961555Z"
        },
        "id": "neKN9LlFymS4",
        "outputId": "7d4e102c-e3d3-4998-9616-28d799a5387a",
        "trusted": true
      },
      "outputs": [
        {
          "name": "stdout",
          "output_type": "stream",
          "text": [
            "- Total Instatnces\n",
            "1044\n",
            "\n",
            "- Values and Counts of the Class\n",
            "Outcome\n",
            "0    707\n",
            "1    337\n",
            "Name: count, dtype: int64\n",
            "\n",
            "- Zero R of the Dataset\n",
            "0.6772030651340997\n"
          ]
        }
      ],
      "source": [
        "print('- Total Instatnces')\n",
        "print(len(raw_df_idroped.Outcome), end='\\n\\n')\n",
        "print('- Values and Counts of the Class')\n",
        "print(raw_df_idroped.Outcome.value_counts(), end='\\n\\n')\n",
        "print('- Zero R of the Dataset')\n",
        "print(raw_df_idroped.Outcome.value_counts().max()/len(raw_df_idroped.Outcome))"
      ]
    },
    {
      "cell_type": "markdown",
      "metadata": {
        "id": "IOduksqFymS6"
      },
      "source": [
        "# 2. Naive Models and Results"
      ]
    },
    {
      "cell_type": "markdown",
      "metadata": {
        "id": "7g4xDdwbymS7"
      },
      "source": [
        "- Only changes of iteration, rest are default\n",
        "- Used Models are below.\n",
        "1. SVM\n",
        "2. Logistic Regression\n",
        "3. Random Forest\n",
        "4. Decision Tree\n",
        "5. KNN\n",
        "6. Naive Bayes(Gaussian)\n",
        "7. MLP\n",
        "8. AdaBoost"
      ]
    },
    {
      "cell_type": "markdown",
      "metadata": {
        "id": "QDYvNdl2ymS7"
      },
      "source": [
        "## Separate target and variables"
      ]
    },
    {
      "cell_type": "code",
      "execution_count": 32,
      "metadata": {
        "execution": {
          "iopub.execute_input": "2023-12-03T03:34:38.886883Z",
          "iopub.status.busy": "2023-12-03T03:34:38.886008Z",
          "iopub.status.idle": "2023-12-03T03:34:38.890725Z",
          "shell.execute_reply": "2023-12-03T03:34:38.890001Z",
          "shell.execute_reply.started": "2023-12-03T03:34:38.886832Z"
        },
        "id": "_1dAkvluymTD",
        "trusted": true
      },
      "outputs": [],
      "source": [
        "X_df = raw_df.drop(columns=['Outcome'])\n",
        "y_df = raw_df['Outcome']"
      ]
    },
    {
      "cell_type": "markdown",
      "metadata": {
        "id": "uaqCzOhdlghl"
      },
      "source": [
        "## Stratified cross validation\n",
        "### Train_Test---------Fold: 5\n",
        "### Train-Validation---Fold: 10 (10% for validation)"
      ]
    },
    {
      "cell_type": "code",
      "execution_count": 33,
      "metadata": {},
      "outputs": [],
      "source": [
        "def create_model(input_dim):\n",
        "    model = Sequential()\n",
        "    model.add(Dense(12, input_dim=input_dim, activation='relu'))\n",
        "    model.add(Dense(8, activation='relu'))\n",
        "    model.add(Dense(1, activation='sigmoid'))\n",
        "    model.compile(loss='binary_crossentropy', optimizer='adam', metrics=['accuracy'])\n",
        "    return model\n"
      ]
    },
    {
      "cell_type": "code",
      "execution_count": 34,
      "metadata": {
        "execution": {
          "iopub.execute_input": "2023-12-03T03:34:40.359632Z",
          "iopub.status.busy": "2023-12-03T03:34:40.358898Z",
          "iopub.status.idle": "2023-12-03T03:34:40.367132Z",
          "shell.execute_reply": "2023-12-03T03:34:40.366431Z",
          "shell.execute_reply.started": "2023-12-03T03:34:40.359592Z"
        },
        "id": "70xPzCLuymTE",
        "trusted": true
      },
      "outputs": [],
      "source": [
        "def skfCV(X, y, model, n_splits_outer=5, n_splits_inner=10):\n",
        "    best_scores = []\n",
        "\n",
        "    # Outer Stratified K-Fold (1-fold for testing, remaining for training)\n",
        "    outer_fold = StratifiedKFold(n_splits=n_splits_outer, shuffle=True)\n",
        "\n",
        "    outer_scores = []\n",
        "\n",
        "    for i, (train_index_outer, test_index_outer) in enumerate(outer_fold.split(X, y), start=1):\n",
        "        X_train_outer, X_test_outer = X.iloc[train_index_outer, :], X.iloc[test_index_outer, :]\n",
        "        y_train_outer, y_test_outer = y.iloc[train_index_outer], y.iloc[test_index_outer]\n",
        "\n",
        "        inner_scores = []\n",
        "\n",
        "        # Inner Stratified K-Fold (with 10% validation)\n",
        "        inner_fold = StratifiedKFold(n_splits=n_splits_inner, shuffle=True)\n",
        "\n",
        "        for j, (train_index_inner, val_index) in enumerate(inner_fold.split(X_train_outer, y_train_outer), start=1):\n",
        "            X_train_inner, X_val = X_train_outer.iloc[train_index_inner, :], X_train_outer.iloc[val_index, :]\n",
        "            y_train_inner, y_val = y_train_outer.iloc[train_index_inner], y_train_outer.iloc[val_index]\n",
        "\n",
        "            # Normalize input features\n",
        "            scaler = StandardScaler()\n",
        "            X_train_inner_scaled = scaler.fit_transform(X_train_inner)\n",
        "            X_val_scaled = scaler.transform(X_val)\n",
        "\n",
        "            # Fit the model\n",
        "            model.fit(X_train_inner_scaled, y_train_inner, epochs=150, batch_size=10, verbose=0)\n",
        "\n",
        "            # Predict on the validation set\n",
        "            y_pred_val = model.predict(X_val_scaled)\n",
        "            y_pred_val = (y_pred_val > 0.5).astype(int)\n",
        "\n",
        "            # Calculate accuracy and F1 score for each fold\n",
        "            acc_fold = accuracy_score(y_val, y_pred_val)\n",
        "            f1_fold = f1_score(y_val, y_pred_val)\n",
        "\n",
        "            # Print or store accuracy and F1 score for each fold\n",
        "            print(f'Fold {j}: Accuracy: {acc_fold:.4f}, F1 Score: {f1_fold:.4f}')\n",
        "\n",
        "            inner_scores.append((acc_fold, f1_fold))\n",
        "\n",
        "        # After the inner loop, calculate the mean accuracy and F1 score\n",
        "        mean_acc_inner = np.mean([score[0] for score in inner_scores])\n",
        "        mean_f1_inner = np.mean([score[1] for score in inner_scores])\n",
        "\n",
        "        # Test on the outer test set\n",
        "        X_test_outer_scaled = scaler.transform(X_test_outer)\n",
        "        y_pred_test = model.predict(X_test_outer_scaled)\n",
        "        y_pred_test = (y_pred_test > 0.5).astype(int)\n",
        "\n",
        "        acc_test = accuracy_score(y_test_outer, y_pred_test)\n",
        "        f1_test = f1_score(y_test_outer, y_pred_test)\n",
        "\n",
        "        # Store the outer and inner scores for analysis\n",
        "        outer_scores.append((acc_test, mean_acc_inner, f1_test, mean_f1_inner))\n",
        "\n",
        "        # Print or store accuracy, mean accuracy, and F1 score for the outer fold\n",
        "        print(f'\\nTest Fold {i}: Test Accuracy: {acc_test:.4f}, Mean(train_validation) Accuracy: {mean_acc_inner:.4f}, Test F1 Score: {f1_test:.4f}, Mean(train_validation) F1 Score: {mean_f1_inner:.4f}\\n')\n",
        "\n",
        "    # After the outer loop, calculate the mean test accuracy and F1 score\n",
        "    mean_acc_outer = np.mean([score[0] for score in outer_scores])\n",
        "    mean_f1_outer = np.mean([score[2] for score in outer_scores])\n",
        "\n",
        "    best_scores.append((mean_acc_outer, mean_f1_outer))\n",
        "\n",
        "    print(f'Mean Test Accuracy: {mean_acc_outer:.4f}, Mean Test F1 Score: {mean_f1_outer:.4f}\\n')\n",
        "\n",
        "    return best_scores"
      ]
    },
    {
      "cell_type": "code",
      "execution_count": 35,
      "metadata": {},
      "outputs": [
        {
          "name": "stdout",
          "output_type": "stream",
          "text": [
            "WARNING:tensorflow:From c:\\Users\\ASUS\\anaconda3\\Lib\\site-packages\\keras\\src\\backend.py:873: The name tf.get_default_graph is deprecated. Please use tf.compat.v1.get_default_graph instead.\n",
            "\n",
            "WARNING:tensorflow:From c:\\Users\\ASUS\\anaconda3\\Lib\\site-packages\\keras\\src\\optimizers\\__init__.py:309: The name tf.train.Optimizer is deprecated. Please use tf.compat.v1.train.Optimizer instead.\n",
            "\n"
          ]
        }
      ],
      "source": [
        "# Assuming X_df has 8 features\n",
        "model = create_model(input_dim=X_df.shape[1])"
      ]
    },
    {
      "cell_type": "code",
      "execution_count": 36,
      "metadata": {},
      "outputs": [
        {
          "name": "stdout",
          "output_type": "stream",
          "text": [
            "WARNING:tensorflow:From c:\\Users\\ASUS\\anaconda3\\Lib\\site-packages\\keras\\src\\utils\\tf_utils.py:492: The name tf.ragged.RaggedTensorValue is deprecated. Please use tf.compat.v1.ragged.RaggedTensorValue instead.\n",
            "\n",
            "WARNING:tensorflow:From c:\\Users\\ASUS\\anaconda3\\Lib\\site-packages\\keras\\src\\engine\\base_layer_utils.py:384: The name tf.executing_eagerly_outside_functions is deprecated. Please use tf.compat.v1.executing_eagerly_outside_functions instead.\n",
            "\n",
            "5/5 [==============================] - 0s 4ms/step\n",
            "Fold 1: Accuracy: 0.7937, F1 Score: 0.6857\n",
            "5/5 [==============================] - 1s 4ms/step\n",
            "Fold 2: Accuracy: 0.8313, F1 Score: 0.7731\n",
            "5/5 [==============================] - 0s 7ms/step\n",
            "Fold 3: Accuracy: 0.8562, F1 Score: 0.7677\n",
            "5/5 [==============================] - 0s 5ms/step\n",
            "Fold 4: Accuracy: 0.8375, F1 Score: 0.7547\n",
            "5/5 [==============================] - 0s 6ms/step\n",
            "Fold 5: Accuracy: 0.9250, F1 Score: 0.8947\n",
            "5/5 [==============================] - 0s 3ms/step\n",
            "Fold 6: Accuracy: 0.8812, F1 Score: 0.8319\n",
            "5/5 [==============================] - 0s 4ms/step\n",
            "Fold 7: Accuracy: 0.9125, F1 Score: 0.8727\n",
            "5/5 [==============================] - 0s 5ms/step\n",
            "Fold 8: Accuracy: 0.9250, F1 Score: 0.8929\n",
            "5/5 [==============================] - 0s 4ms/step\n",
            "Fold 9: Accuracy: 0.9187, F1 Score: 0.8785\n",
            "5/5 [==============================] - 0s 4ms/step\n",
            "Fold 10: Accuracy: 0.8812, F1 Score: 0.8319\n",
            "13/13 [==============================] - 0s 3ms/step\n",
            "\n",
            "Test Fold 1: Test Accuracy: 0.8975, Mean(train_validation) Accuracy: 0.8763, Test F1 Score: 0.8498, Mean(train_validation) F1 Score: 0.8184\n",
            "\n",
            "5/5 [==============================] - 0s 3ms/step\n",
            "Fold 1: Accuracy: 0.9125, F1 Score: 0.8772\n",
            "5/5 [==============================] - 0s 4ms/step\n",
            "Fold 2: Accuracy: 0.9437, F1 Score: 0.9217\n",
            "5/5 [==============================] - 0s 5ms/step\n",
            "Fold 3: Accuracy: 0.9625, F1 Score: 0.9464\n",
            "5/5 [==============================] - 0s 3ms/step\n",
            "Fold 4: Accuracy: 0.9000, F1 Score: 0.8545\n",
            "5/5 [==============================] - 0s 5ms/step\n",
            "Fold 5: Accuracy: 0.9313, F1 Score: 0.9009\n",
            "5/5 [==============================] - 0s 1ms/step\n",
            "Fold 6: Accuracy: 0.8875, F1 Score: 0.8302\n",
            "5/5 [==============================] - 0s 3ms/step\n",
            "Fold 7: Accuracy: 0.8625, F1 Score: 0.7963\n",
            "5/5 [==============================] - 0s 3ms/step\n",
            "Fold 8: Accuracy: 0.9375, F1 Score: 0.9107\n",
            "5/5 [==============================] - 0s 3ms/step\n",
            "Fold 9: Accuracy: 0.8875, F1 Score: 0.8333\n",
            "5/5 [==============================] - 0s 8ms/step\n",
            "Fold 10: Accuracy: 0.9062, F1 Score: 0.8571\n",
            "13/13 [==============================] - 0s 4ms/step\n",
            "\n",
            "Test Fold 2: Test Accuracy: 0.8775, Mean(train_validation) Accuracy: 0.9131, Test F1 Score: 0.8244, Mean(train_validation) F1 Score: 0.8728\n",
            "\n",
            "5/5 [==============================] - 0s 5ms/step\n",
            "Fold 1: Accuracy: 0.9313, F1 Score: 0.8991\n",
            "5/5 [==============================] - 0s 2ms/step\n",
            "Fold 2: Accuracy: 0.9500, F1 Score: 0.9245\n",
            "5/5 [==============================] - 0s 5ms/step\n",
            "Fold 3: Accuracy: 0.9313, F1 Score: 0.8952\n",
            "5/5 [==============================] - 0s 3ms/step\n",
            "Fold 4: Accuracy: 0.9437, F1 Score: 0.9189\n",
            "5/5 [==============================] - 0s 2ms/step\n",
            "Fold 5: Accuracy: 0.9437, F1 Score: 0.9204\n",
            "5/5 [==============================] - 0s 4ms/step\n",
            "Fold 6: Accuracy: 0.8812, F1 Score: 0.8041\n",
            "5/5 [==============================] - 0s 2ms/step\n",
            "Fold 7: Accuracy: 0.9500, F1 Score: 0.9259\n",
            "5/5 [==============================] - 0s 4ms/step\n",
            "Fold 8: Accuracy: 0.9062, F1 Score: 0.8673\n",
            "5/5 [==============================] - 0s 3ms/step\n",
            "Fold 9: Accuracy: 0.9313, F1 Score: 0.8972\n",
            "5/5 [==============================] - 1s 3ms/step\n",
            "Fold 10: Accuracy: 0.9812, F1 Score: 0.9735\n",
            "13/13 [==============================] - 1s 6ms/step\n",
            "\n",
            "Test Fold 3: Test Accuracy: 0.9250, Mean(train_validation) Accuracy: 0.9350, Test F1 Score: 0.8872, Mean(train_validation) F1 Score: 0.9026\n",
            "\n",
            "5/5 [==============================] - 0s 4ms/step\n",
            "Fold 1: Accuracy: 0.9187, F1 Score: 0.8850\n",
            "5/5 [==============================] - 0s 3ms/step\n",
            "Fold 2: Accuracy: 0.9688, F1 Score: 0.9565\n",
            "5/5 [==============================] - 0s 5ms/step\n",
            "Fold 3: Accuracy: 0.8875, F1 Score: 0.8421\n",
            "5/5 [==============================] - 0s 2ms/step\n",
            "Fold 4: Accuracy: 0.9688, F1 Score: 0.9558\n",
            "5/5 [==============================] - 0s 5ms/step\n",
            "Fold 5: Accuracy: 0.9313, F1 Score: 0.8932\n",
            "5/5 [==============================] - 0s 4ms/step\n",
            "Fold 6: Accuracy: 0.9375, F1 Score: 0.9057\n",
            "5/5 [==============================] - 0s 3ms/step\n",
            "Fold 7: Accuracy: 0.9313, F1 Score: 0.8991\n",
            "5/5 [==============================] - 0s 3ms/step\n",
            "Fold 8: Accuracy: 0.9187, F1 Score: 0.8660\n",
            "5/5 [==============================] - 0s 3ms/step\n",
            "Fold 9: Accuracy: 0.9125, F1 Score: 0.8750\n",
            "5/5 [==============================] - 0s 5ms/step\n",
            "Fold 10: Accuracy: 0.9062, F1 Score: 0.8624\n",
            "13/13 [==============================] - 0s 4ms/step\n",
            "\n",
            "Test Fold 4: Test Accuracy: 0.9400, Mean(train_validation) Accuracy: 0.9281, Test F1 Score: 0.9124, Mean(train_validation) F1 Score: 0.8941\n",
            "\n",
            "5/5 [==============================] - 0s 17ms/step\n",
            "Fold 1: Accuracy: 0.9313, F1 Score: 0.9009\n",
            "5/5 [==============================] - 0s 11ms/step\n",
            "Fold 2: Accuracy: 0.9500, F1 Score: 0.9286\n",
            "5/5 [==============================] - 0s 3ms/step\n",
            "Fold 3: Accuracy: 0.9563, F1 Score: 0.9346\n",
            "5/5 [==============================] - 0s 5ms/step\n",
            "Fold 4: Accuracy: 0.9125, F1 Score: 0.8654\n",
            "5/5 [==============================] - 0s 2ms/step\n",
            "Fold 5: Accuracy: 0.9563, F1 Score: 0.9358\n",
            "5/5 [==============================] - 0s 3ms/step\n",
            "Fold 6: Accuracy: 0.9250, F1 Score: 0.8800\n",
            "5/5 [==============================] - 0s 3ms/step\n",
            "Fold 7: Accuracy: 0.9062, F1 Score: 0.8696\n",
            "5/5 [==============================] - 0s 16ms/step\n",
            "Fold 8: Accuracy: 0.9313, F1 Score: 0.9009\n",
            "5/5 [==============================] - 0s 4ms/step\n",
            "Fold 9: Accuracy: 0.9625, F1 Score: 0.9455\n",
            "5/5 [==============================] - 0s 0s/step\n",
            "Fold 10: Accuracy: 0.9375, F1 Score: 0.8980\n",
            "13/13 [==============================] - 0s 1ms/step\n",
            "\n",
            "Test Fold 5: Test Accuracy: 0.9550, Mean(train_validation) Accuracy: 0.9369, Test F1 Score: 0.9343, Mean(train_validation) F1 Score: 0.9059\n",
            "\n",
            "Mean Test Accuracy: 0.9190, Mean Test F1 Score: 0.8816\n",
            "\n"
          ]
        }
      ],
      "source": [
        "model_all = skfCV(X_df, y_df, model)"
      ]
    }
  ],
  "metadata": {
    "accelerator": "GPU",
    "colab": {
      "gpuType": "T4",
      "provenance": []
    },
    "kaggle": {
      "accelerator": "tpu1vmV38",
      "dataSources": [
        {
          "datasetId": 4099056,
          "sourceId": 7109498,
          "sourceType": "datasetVersion"
        }
      ],
      "dockerImageVersionId": 30589,
      "isGpuEnabled": false,
      "isInternetEnabled": true,
      "language": "python",
      "sourceType": "notebook"
    },
    "kernelspec": {
      "display_name": "Python 3",
      "name": "python3"
    },
    "language_info": {
      "codemirror_mode": {
        "name": "ipython",
        "version": 3
      },
      "file_extension": ".py",
      "mimetype": "text/x-python",
      "name": "python",
      "nbconvert_exporter": "python",
      "pygments_lexer": "ipython3",
      "version": "3.11.5"
    }
  },
  "nbformat": 4,
  "nbformat_minor": 0
}
